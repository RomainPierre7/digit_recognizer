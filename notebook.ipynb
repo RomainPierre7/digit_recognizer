{
 "cells": [
  {
   "cell_type": "code",
   "execution_count": null,
   "metadata": {},
   "outputs": [],
   "source": [
    "import pandas as pd\n",
    "data = pd.read_csv(r\"data/train.csv\",encoding = 'ISO-8859-1', index_col=0)\n",
    "data.head()"
   ]
  },
  {
   "cell_type": "code",
   "execution_count": null,
   "metadata": {},
   "outputs": [],
   "source": [
    "import matplotlib.pyplot as plt\n",
    "import numpy as np\n",
    "from sklearn.neural_network import MLPClassifier\n",
    "\n",
    "start_col = 0\n",
    "n = data.shape[0]\n",
    "p=data.shape[1] - start_col\n",
    "X=data.loc[:, data.columns[start_col]:data.columns[start_col + p - 1]].to_numpy().reshape([n,p])\n",
    "\n",
    "\n",
    "d = 30000\n",
    "\n",
    "train = X[:d]\n",
    "train_target = data.index[:d]\n",
    "test = X[d:]\n",
    "test_target = data.index[d:]"
   ]
  },
  {
   "cell_type": "code",
   "execution_count": null,
   "metadata": {},
   "outputs": [],
   "source": [
    "def im_array(L):\n",
    "    IM = []\n",
    "    for i in range(28):\n",
    "        x = []\n",
    "        for j in range(28):\n",
    "            x.append(L[28*i + j])\n",
    "        IM.append(x)\n",
    "    return IM\n",
    "\n",
    "def plot_multi(data, target, i):\n",
    "    nplots = 16\n",
    "    fig = plt.figure(figsize=(15,15))\n",
    "    for j in range(nplots):\n",
    "        plt.subplot(4,4,j+1)\n",
    "        plt.imshow(im_array(data[i+j]), cmap='binary')\n",
    "        plt.title(target[i+j])\n",
    "        plt.axis('off')\n",
    "    plt.show()\n",
    "\n",
    "plot_multi(train, train_target, 0)"
   ]
  },
  {
   "cell_type": "code",
   "execution_count": null,
   "metadata": {},
   "outputs": [],
   "source": [
    "\"\"\" mlp = MLPClassifier(hidden_layer_sizes=(150,), activation='logistic', alpha=1e-5,\n",
    "                    solver='sgd', tol=1e-4, random_state=1,\n",
    "                    learning_rate_init=0.00001, verbose=True) \"\"\"\n",
    "\n",
    "mlp=MLPClassifier(solver='adam',hidden_layer_sizes=500,alpha=1e-06)\n",
    "\n",
    "mlp.fit(train,train_target)"
   ]
  },
  {
   "cell_type": "code",
   "execution_count": null,
   "metadata": {},
   "outputs": [],
   "source": [
    "prediction = mlp.predict(test)\n",
    "\n",
    "plot_multi(test, prediction, 0)\n",
    "\n",
    "# pd.DataFrame(prediction).to_csv('prediction.csv')"
   ]
  },
  {
   "cell_type": "code",
   "execution_count": null,
   "metadata": {},
   "outputs": [],
   "source": [
    "from sklearn.metrics import accuracy_score\n",
    "accuracy_score(test_target, prediction)"
   ]
  },
  {
   "cell_type": "code",
   "execution_count": null,
   "metadata": {},
   "outputs": [],
   "source": [
    "import tkinter\n",
    "from PIL import Image\n",
    "from skimage.transform import resize\n",
    "\n",
    "fenetre=0\n",
    "canvas=0\n",
    "\n",
    "lastX=0\n",
    "lastY=0\n",
    "\n",
    "couleur='black'\n",
    "\n",
    "def click(event):\n",
    "    global lastX, lastY\n",
    "    lastX=event.x\n",
    "    lastY=event.y\n",
    "\n",
    "def move(event):\n",
    "    global lastX, lastY\n",
    "    canvas.create_line(lastX, lastY, event.x, event.y, fill=couleur, width=100)\n",
    "    lastX=event.x\n",
    "    lastY=event.y\n",
    "\n",
    "def initFenetre():\n",
    "    global fenetre, canvas\n",
    "    fenetre=tkinter.Tk()\n",
    "    fenetre.title('Digit recongnizer')\n",
    "    fenetre.state('normal')\n",
    "    canvas = tkinter.Canvas(fenetre, width=1000, height=1000, bg='white')\n",
    "    canvas.bind('<Button-1>', click)\n",
    "    canvas.bind('<B1-Motion>', move)\n",
    "\n",
    "def clear():\n",
    "    canvas.delete(tkinter.ALL)\n",
    "\n",
    "def save_as_png():\n",
    "    canvas.postscript(file = r'data/digit' + '.eps')\n",
    "    img = Image.open(r'data/digit' + '.eps')\n",
    "    img.save(r'data/digit' + '.png', 'png')\n",
    "\n",
    "def predict():\n",
    "    save_as_png()\n",
    "    im = plt.imread(r'data/digit.png')\n",
    "    res = resize(im, (28,28))\n",
    "    res = res[:,:,2].reshape(784,)\n",
    "    for i in range(784):\n",
    "        res[i] = int(abs(res[i] - 1)*255)\n",
    "    predict = mlp.predict(res.reshape(1,784))\n",
    "    label2[\"text\"]=\"%3s\" %predict[0]\n",
    "\n",
    "initFenetre()\n",
    "canvas.grid(row=0, column=0, rowspan=4)\n",
    "btn1=tkinter.Button(fenetre, text=\"submit\", command=predict)\n",
    "btn1.grid(row=0, column=1, sticky=tkinter.N)\n",
    "btn2=tkinter.Button(fenetre, text=\"clear\", command=clear)\n",
    "btn2.grid(row=0, column=2, sticky=tkinter.N)\n",
    "label1=tkinter.Label(fenetre, text=\"Digit :\", bg='red', width=15)\n",
    "label1.grid(row=1, column=1, sticky=tkinter.N)\n",
    "label2=tkinter.Label(fenetre, text=\"%3s\" %0, width=15)\n",
    "label2.grid(row=1, column=2, sticky=tkinter.N)\n",
    "fenetre.mainloop()"
   ]
  },
  {
   "cell_type": "code",
   "execution_count": null,
   "metadata": {},
   "outputs": [],
   "source": [
    "from skimage.transform import resize\n",
    "\n",
    "im = plt.imread(r'data/digit.png')\n",
    "res = resize(im, (28,28))\n",
    "res = res[:,:,2].reshape(784,)\n",
    "for i in range(784):\n",
    "    res[i] = int(abs(res[i] - 1)*255)\n",
    "\n",
    "fig = plt.figure(figsize=(10,10))\n",
    "plt.subplot(1,2,1)\n",
    "plt.imshow(im, cmap='binary')\n",
    "plt.title(\"Original\")\n",
    "plt.axis('off')\n",
    "plt.subplot(1,2,2)\n",
    "plt.imshow(im_array(res), cmap='binary')\n",
    "plt.title(\"28*28\")\n",
    "plt.axis('off')\n",
    "plt.show()"
   ]
  },
  {
   "cell_type": "code",
   "execution_count": null,
   "metadata": {},
   "outputs": [],
   "source": [
    "predict = mlp.predict(res.reshape(1,784))\n",
    "print(predict)"
   ]
  }
 ],
 "metadata": {
  "kernelspec": {
   "display_name": "Python 3",
   "language": "python",
   "name": "python3"
  },
  "language_info": {
   "codemirror_mode": {
    "name": "ipython",
    "version": 3
   },
   "file_extension": ".py",
   "mimetype": "text/x-python",
   "name": "python",
   "nbconvert_exporter": "python",
   "pygments_lexer": "ipython3",
   "version": "3.10.6"
  },
  "orig_nbformat": 4,
  "vscode": {
   "interpreter": {
    "hash": "916dbcbb3f70747c44a77c7bcd40155683ae19c65e1c03b4aa3499c5328201f1"
   }
  }
 },
 "nbformat": 4,
 "nbformat_minor": 2
}
